{
 "cells": [
  {
   "cell_type": "markdown",
   "metadata": {},
   "source": [
    "### Fin6320 - Nuggets and Number Guessing Problems"
   ]
  },
  {
   "cell_type": "code",
   "execution_count": 1,
   "metadata": {
    "collapsed": false
   },
   "outputs": [
    {
     "name": "stdout",
     "output_type": "stream",
     "text": [
      "The highest number of nuggest that you cannot purchase is:43\n"
     ]
    }
   ],
   "source": [
    "#Seth Muhlestein\n",
    "#Fin6320\n",
    "##Nuggets\n",
    "\n",
    "def max_nugget_number(num, pkg1 = 6, pkg2 = 9, pkg3 = 20):\n",
    "    for i in range(num//pkg1 + 1):\n",
    "        for j in range(num//pkg2 + 1):\n",
    "            for k in range(num//pkg3 + 1):\n",
    "                if(pkg1*i + pkg2*j + pkg3*k == num):\n",
    "                    return True\n",
    "\n",
    "    return False\n",
    "\n",
    "def main():\n",
    "    possible = 6\n",
    "    highest = 0\n",
    "    counter = 0\n",
    "    smallest_pkg = 6\n",
    "\n",
    "    while(counter < smallest_pkg):\n",
    "        if(max_nugget_number(possible)):\n",
    "            counter += 1\n",
    "        else:\n",
    "            highest = possible\n",
    "            counter = 0\n",
    "        possible += 1\n",
    "\n",
    "    print(\"The highest number of nuggest that you cannot purchase is:{}\".format(highest))\n",
    "\n",
    "if __name__ == \"__main__\":\n",
    "    main()"
   ]
  },
  {
   "cell_type": "code",
   "execution_count": 3,
   "metadata": {
    "collapsed": false
   },
   "outputs": [
    {
     "name": "stdout",
     "output_type": "stream",
     "text": [
      "Welcome to the number guessing game! \n",
      "\n",
      "\n",
      "Here is how it works. You get to pick a number between 1 and 100, and I get to guess it.\n",
      "\n",
      "I guarantee I can guess your number in 7 tries or less. Let's play!\n",
      "\n",
      "\n",
      "My guess is:50\n",
      "Tell me, is my guess 1) low, 2) high, or 3) correct? 1\n",
      "My guess is:75\n",
      "Tell me, is my guess 1) low, 2) high, or 3) correct? 2\n",
      "My guess is:62\n",
      "Tell me, is my guess 1) low, 2) high, or 3) correct? 1\n",
      "My guess is:68\n",
      "Tell me, is my guess 1) low, 2) high, or 3) correct? 3\n",
      "I correctly guessed your number 68 in 4 tries\n"
     ]
    }
   ],
   "source": [
    "#Seth Muhlestein\n",
    "#Fin6320\n",
    "##Number Guessing\n",
    "\n",
    "menu = {'1': \"Low\", '2': \"High\", '3':\"Correct\"}\n",
    "\n",
    "def greeting():\n",
    "    print(\"Welcome to the number guessing game! \\n\\n\")\n",
    "    print(\"Here is how it works. You get to pick a number between 1 and 100, and I get to guess it.\\n\")\n",
    "    print(\"I guarantee I can guess your number in 7 tries or less. Let's play!\\n\\n\")\n",
    "\n",
    "def bisector(lowBound, upBound):\n",
    "    return (lowBound + upBound) // 2\n",
    "\n",
    "def get_response():\n",
    "    choice = input(\"Tell me, is my guess 1) low, 2) high, or 3) correct? \")\n",
    "    return choice\n",
    "\n",
    "def main():\n",
    "\n",
    "    greeting()\n",
    "    lowBound = 0\n",
    "    upBound = 101\n",
    "    guesses = 0\n",
    "    game_over = False\n",
    "\n",
    "    while(not game_over):\n",
    "        guess = bisector(lowBound, upBound)\n",
    "        print(\"My guess is:{}\".format(guess))\n",
    "        user_response = get_response()\n",
    "        if menu[user_response] == \"Low\":\n",
    "            lowBound = guess\n",
    "        elif menu[user_response] == \"High\":\n",
    "            upBound = guess\n",
    "        else:\n",
    "            game_over = True\n",
    "        guesses += 1\n",
    "    print(\"I correctly guessed your number {} in {} tries\".format(guess, guesses))\n",
    "\n",
    "if __name__ == \"__main__\":\n",
    "    main()\n"
   ]
  }
 ],
 "metadata": {
  "anaconda-cloud": {},
  "kernelspec": {
   "display_name": "Python [default]",
   "language": "python",
   "name": "python3"
  },
  "language_info": {
   "codemirror_mode": {
    "name": "ipython",
    "version": 3
   },
   "file_extension": ".py",
   "mimetype": "text/x-python",
   "name": "python",
   "nbconvert_exporter": "python",
   "pygments_lexer": "ipython3",
   "version": "3.5.2"
  }
 },
 "nbformat": 4,
 "nbformat_minor": 1
}
