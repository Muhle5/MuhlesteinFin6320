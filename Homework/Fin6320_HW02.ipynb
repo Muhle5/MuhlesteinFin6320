{
 "cells": [
  {
   "cell_type": "markdown",
   "metadata": {},
   "source": [
    "### Fin6320 Programming Games"
   ]
  },
  {
   "cell_type": "code",
   "execution_count": 18,
   "metadata": {
    "collapsed": false
   },
   "outputs": [
    {
     "name": "stdout",
     "output_type": "stream",
     "text": [
      "Out of 100 flips,  50  were heads and  50  were tails.\n"
     ]
    }
   ],
   "source": [
    "#Seth Muhlestein\n",
    "#Fin6320\n",
    "#HW_02\n",
    "#Programming Challenges\n",
    "\n",
    "\n",
    "#1. Write a program that simulates flipping a coin 100 times and then tells you the number of heads and tails. Use the simple builtin random number generator.\n",
    "\n",
    "import random\n",
    "\n",
    "Heads, Tails = 0, 0\n",
    "NumFlips = 0  \n",
    "while NumFlips < 100:\n",
    "    CoinFlip = random.randrange(2)\n",
    "    if CoinFlip == 0:\n",
    "        Heads += 1\n",
    "    else:\n",
    "        Tails += 1\n",
    "    NumFlips += 1\n",
    "\n",
    "print (\"Out of 100 flips, \",Heads, \" were heads and \",Tails, \" were tails.\")"
   ]
  },
  {
   "cell_type": "code",
   "execution_count": 19,
   "metadata": {
    "collapsed": false
   },
   "outputs": [
    {
     "name": "stdout",
     "output_type": "stream",
     "text": [
      "Work will win when wishy-washy wishing won't\n"
     ]
    }
   ],
   "source": [
    "#2. Write a program that simulates a fortune cookie. The program should display one of five unique fortunes, at random, each time it's run.\n",
    "\n",
    "import random\n",
    "\n",
    "Fortune_01 = \"Your life is about to take a new path, embrace it!\"\n",
    "Fortune_02 = \"You thought you were going to get a fortune...joke is on you!\"\n",
    "Fortune_03 = \"You will get an 'A' on your next assignment :)\"\n",
    "Fortune_04 = \"Work will win when wishy-washy wishing won't\"\n",
    "Fortune_05 = \"Reach for the stars--don't settle for the moon\"\n",
    "\n",
    "Fortune_List = [Fortune_01, Fortune_02, Fortune_03, Fortune_04, Fortune_05]\n",
    "\n",
    "print (random.choice(Fortune_List))"
   ]
  },
  {
   "cell_type": "code",
   "execution_count": 20,
   "metadata": {
    "collapsed": false
   },
   "outputs": [
    {
     "name": "stdout",
     "output_type": "stream",
     "text": [
      "Let me help you count! Just tell me where I should start, stop, and what interval to use! \n",
      "\n",
      "Where do you want me to start? \n",
      "63\n",
      "Where do you want me to stop? \n",
      "154\n",
      "What do you want me to count by (twos, fours, etc)? \n",
      "7\n",
      "All right, here we go...\n",
      "63\n",
      "70\n",
      "77\n",
      "84\n",
      "91\n",
      "98\n",
      "105\n",
      "112\n",
      "119\n",
      "126\n",
      "133\n",
      "140\n",
      "147\n",
      "154\n"
     ]
    }
   ],
   "source": [
    "#3. Write a program that counts for the user. Let the user enter the starting number, the ending number, and the amount by which to count.\n",
    "\n",
    "print (\"Let me help you count! Just tell me where I should start, stop, and what interval to use! \\n\")\n",
    "\n",
    "Start = int(input (\"Where do you want me to start? \\n\"))\n",
    "End = int(input (\"Where do you want me to stop? \\n\")) + 1\n",
    "Interval = int(input (\"What do you want me to count by (twos, fours, etc)? \\n\"))\n",
    "Numbers_tup = ()\n",
    "Numbers_list = []\n",
    "\n",
    "print (\"All right, here we go...\")\n",
    "for i in range(Start, End, Interval):\n",
    "    print(i)\n",
    "    #Numbers_tup += (i,)\n",
    "    #Numbers_list.append(i)\n",
    "    \n",
    "#print(Numbers_tup)\n",
    "#print(Numbers_list)"
   ]
  },
  {
   "cell_type": "code",
   "execution_count": 21,
   "metadata": {
    "collapsed": false
   },
   "outputs": [
    {
     "name": "stdout",
     "output_type": "stream",
     "text": [
      "Wanna see a trick? I'm going to print a message that you give me backwards!\n",
      "\n",
      "Please Enter Your Message: Live on time, emit no evil!\n",
      "\n",
      "Your message backasswards is:  !live on time ,emit no eviL\n"
     ]
    }
   ],
   "source": [
    "#4. Create a program that gets a message from the user and then prints it out backwards.\n",
    "\n",
    "print(\"Wanna see a trick? I'm going to print a message that you give me backwards!\\n\")\n",
    "\n",
    "Message = input(\"Please Enter Your Message: \")\n",
    "print()                     \n",
    "print(\"Your message backasswards is: \", Message[::-1])"
   ]
  },
  {
   "cell_type": "code",
   "execution_count": 23,
   "metadata": {
    "collapsed": false
   },
   "outputs": [
    {
     "name": "stdout",
     "output_type": "stream",
     "text": [
      "Let's play a game! I will pick an animal and you have to guess the name of that animal.\n",
      "\n",
      "I will tell you how many letters are in the name. You will have 4 chances to ask if a letter is in the word.\n",
      "\n",
      "By the 5 guess, you have to guess the animal! You can guess the animal before the 5 guess.\n",
      "\n",
      "Amount of letters in the animal's name: 3 \n",
      "\n",
      "Attempts left: 5\n",
      "\n",
      "Enter your guess, or a letter: c\n",
      "Attempts left: 4\n",
      "No, 'c' does not appear in the answer\n",
      "\n",
      "Enter your guess, or a letter: b\n",
      "Attempts left: 3\n",
      "Yes, 'b' appears in the answer\n",
      "\n",
      "Enter your guess, or a letter: bat\n",
      "Yay! 'bat' is the correct answer.\n",
      "\n"
     ]
    }
   ],
   "source": [
    "#5. Create a game where the computer picks a random word and the player has to guess that word. \n",
    "#   The computer tells the player how many letters are in the word. Then the player gets five chances \n",
    "#   to ask if a letter is in the word. The computer can only respond with \"yes\" or \"no\". Then, the \n",
    "#   player must guess the word. (Hint: keep it simple at first. Solve the hardest part first, and then add more detail. \n",
    "#   For example, start with a very simple list of words, which can be improved later.)\n",
    "\n",
    "import random\n",
    "\n",
    "Animals = (\"dog\", \"cat\", \"horse\", \"lion\", \"elephant\", \n",
    "          \"zebra\", \"baboon\", \"otter\", \"platypus\", \"beaver\",\n",
    "          \"tiger\", \"leopard\", \"jaguar\", \"wolf\", \"cow\", \n",
    "          \"orangutan\", \"bat\", \"hamster\", \"mouse\", \"hippopotamus\",\n",
    "          \"komodo dragon\", \"dolphin\", \"shark\", \"lemur\", \"buffalo\", \n",
    "          \"moose\")\n",
    "\n",
    "animal = random.choice(Animals)\n",
    "correct_answer = animal\n",
    "max_guesses = 5\n",
    "\n",
    "print(\"Let's play a game! I will pick an animal and you have to guess the name of that animal.\\n\") \n",
    "print(\"I will tell you how many letters are in the name. You will have\",max_guesses-1,\"chances to ask if a letter is in the word.\\n\") \n",
    "print(\"By the\",max_guesses,\"guess, you have to guess the animal! You can guess the animal before the\",max_guesses,\"guess.\\n\")\n",
    "print(\"Amount of letters in the animal's name:\", len(animal),\"\\n\")\n",
    "print(\"Attempts left:\", max_guesses)\n",
    "\n",
    "\n",
    "for guesses in range(max_guesses):\n",
    "    guess = input(\"\\nEnter your guess, or a letter: \")\n",
    "    if guess == correct_answer:\n",
    "        print(\"Yay! '%s' is the correct answer.\\n\" % guess)\n",
    "        break\n",
    "    elif guess != \"\":\n",
    "        print(\"Attempts left:\", max_guesses - guesses - 1)\n",
    "        if guess[0] in correct_answer:\n",
    "            print(\"Yes, '%s' appears in the answer\" % guess[0])\n",
    "        else:\n",
    "            print(\"No, '%s' does not appear in the answer\" % guess[0]) \n",
    "else:\n",
    "    print(\"\\nYou ran out of attempts!\\n\")\n",
    "    print(\"The answer was\", animal,\"!\")"
   ]
  },
  {
   "cell_type": "code",
   "execution_count": 24,
   "metadata": {
    "collapsed": false
   },
   "outputs": [
    {
     "name": "stdout",
     "output_type": "stream",
     "text": [
      "tres\n",
      "sete\n",
      "um\n",
      "dez\n",
      "cinco\n",
      "seis\n",
      "oito\n",
      "quatro\n",
      "dois\n",
      "nove\n"
     ]
    }
   ],
   "source": [
    "#6. Create a program that prints a list of words in random order. The program should print all the words and not repeat any.\n",
    "\n",
    "import random\n",
    "\n",
    "in_WordList = [\"um\", \"dois\", \"tres\", \"quatro\", \"cinco\", \"seis\", \"sete\", \"oito\", \"nove\", \"dez\"]\n",
    "out_WordList = []\n",
    "\n",
    "while in_WordList: \n",
    "    ListLength = len(in_WordList)\n",
    "    index = random.randint(0, ListLength - 1) \n",
    "    word = in_WordList[index]\n",
    "    out_WordList.append(word) \n",
    "    del in_WordList[index] \n",
    "\n",
    "for word in out_WordList:\n",
    "    print (word)"
   ]
  }
 ],
 "metadata": {
  "anaconda-cloud": {},
  "kernelspec": {
   "display_name": "Python [default]",
   "language": "python",
   "name": "python3"
  },
  "language_info": {
   "codemirror_mode": {
    "name": "ipython",
    "version": 3
   },
   "file_extension": ".py",
   "mimetype": "text/x-python",
   "name": "python",
   "nbconvert_exporter": "python",
   "pygments_lexer": "ipython3",
   "version": "3.5.2"
  }
 },
 "nbformat": 4,
 "nbformat_minor": 1
}
