{
 "cells": [
  {
   "cell_type": "markdown",
   "metadata": {},
   "source": [
    "# An Introduction to the Monte Carlo Method\n",
    "\n",
    "This set of notes introduces some basic concepts regarding statistical limit theory as well as the Monte Carlo method.\n",
    "\n",
    "## Statistical Limit Theory\n",
    "\n",
    "### Limiting Distribution\n",
    "\n",
    "Consider a sequence of random variables $Y_{1}, Y_{2}, \\ldots$ with a corresponding sequence of CDFs $G_{1}(y), G_{2}(y), \\ldots$ so that for each $n = 1, 2, \\ldots$\n",
    "\n",
    "$$G_{n}(y) = P[Y_{n} \\le y]$$\n",
    "\n",
    "***Definition***\n",
    "\n",
    "If $Y_{n} \\sim G_{n}(y)$ for each $n = 1, 2, \\ldots$, and if for some CDF $G(y)$\n",
    "\n",
    "$$\\lim_{n\\to\\infty} G_{n}(y) = G(y)$$\n",
    "\n",
    "for all values $y$ at which $G(y)$ is continous, then the sequence $Y_{1}, Y_{2}, \\ldots$ is said to **converge in distribution** to $Y \\sim G(y)$, denoted by $Y_{n} \\xrightarrow{d} Y$. The distribution corresponding to the CDF $G(y)$ is called the **limiting distribution** of $Y_{n}$.\n",
    "\n",
    "### Basic Convergence Concepts\n",
    "\n",
    "***Definition***\n",
    "\n",
    "A sequence of random variables, $Y_{1}, Y_{2}, \\ldots$, is said to **converge in probability** to the random variable $Y$ if \n",
    "\n",
    "$$\\lim_{n\\to\\infty} P[|Y_{n} - Y| < \\varepsilon] = 1$$\n",
    "\n",
    "for every $\\varepsilon > 0$.\n",
    "\n",
    "\n",
    "***Definition***\n",
    "\n",
    "The sequence **converges almost surely** to $Y$ if \n",
    "\n",
    "$$P[lim_{n\\to\\infty} |Y_{n} - Y| < \\varepsilon] = 1$$\n",
    "\n",
    "for every $\\varepsilon > 0$. \n",
    "\n",
    "### The Law of Large Numbers\n",
    "\n",
    "***Definition***\n",
    "\n",
    "The law which states that the larger a sample, the nearer its mean is to that of the parent population from which the sample is drawn. More formally: for every $\\varepsilon > 0$, the probability\n",
    "\n",
    "$$\\{|\\bar{Y} - Y| > \\varepsilon \\} \\rightarrow 0 \\quad \\mbox{as} \\quad n \\rightarrow \\infty$$\n",
    "\n",
    "where $n$ is the sample size, $\\bar{Y}$ is the sample mean, and $\\mu$ is the parent mean.\n",
    "\n",
    "More rigorous definitions are the following:\n",
    "\n",
    "For i.i.d sequences of one-dimensional random variables $Y_{1}, Y_{2}, \\ldots$, let $\\bar{Y}_{n} = \\frac{1}{n} \\sum\\limits_{i=1}^{n} Y_{i}$.\n",
    "\n",
    "The *weak law of large numbers* states that $\\bar{Y}_{n}$ converges in probability to $\\mu = E\\{Y_{i}\\}$ if $E\\{|Y_{i}|\\} < \\infty$.\n",
    "\n",
    "The *strong law of large numbers* states that $\\bar{Y}_{n}$ converges almost surely to $\\mu$ if $E\\{|Y_{i}|\\} < \\infty$.\n",
    "\n",
    "Both results hold under the more stringent but easily checked condition that $var\\{Y_{i}\\} = \\sigma^{2} < \\infty$.\n",
    "\n",
    "### Using Simulation to Check the Law of Large Numbers\n",
    "\n",
    "We can use simulation to check the Law of Large Numbers. Consider a fair die with six sides and outcomes $Y = \\{1, 2, 3, 4, 5, 6\\}$, each with $P[Y_{i} = y] = \\frac{1}{6}$. The true mean is \n",
    "\n",
    "$$ \\mu = E\\{Y\\} = \\frac{1}{6}[1 + 2 + 3 + 4 + 5 + 6] = 3.5$$\n",
    "\n",
    "We can verify this in `Python`:"
   ]
  },
  {
   "cell_type": "code",
   "execution_count": 1,
   "metadata": {
    "collapsed": false
   },
   "outputs": [],
   "source": [
    "%matplotlib inline"
   ]
  },
  {
   "cell_type": "code",
   "execution_count": 2,
   "metadata": {
    "collapsed": false
   },
   "outputs": [],
   "source": [
    "import numpy as np\n",
    "import matplotlib.pyplot as plt\n",
    "\n",
    "x = np.arange(1,7)\n",
    "mu = (1/6) * x.sum()"
   ]
  },
  {
   "cell_type": "code",
   "execution_count": 3,
   "metadata": {
    "collapsed": false
   },
   "outputs": [
    {
     "data": {
      "text/plain": [
       "3.5"
      ]
     },
     "execution_count": 3,
     "metadata": {},
     "output_type": "execute_result"
    }
   ],
   "source": [
    "mu"
   ]
  },
  {
   "cell_type": "markdown",
   "metadata": {},
   "source": [
    "Now let's simulate some rolls of the die and collect some data. We will let our sample size increase and plot the estimated mean.\n",
    "\n",
    "We can simulate a single roll of the die as follows:\n"
   ]
  },
  {
   "cell_type": "code",
   "execution_count": 7,
   "metadata": {
    "collapsed": false
   },
   "outputs": [
    {
     "data": {
      "text/plain": [
       "5"
      ]
     },
     "execution_count": 7,
     "metadata": {},
     "output_type": "execute_result"
    }
   ],
   "source": [
    "np.random.randint(1,7)"
   ]
  },
  {
   "cell_type": "markdown",
   "metadata": {},
   "source": [
    "We can also simulate many at once as follows:"
   ]
  },
  {
   "cell_type": "code",
   "execution_count": 8,
   "metadata": {
    "collapsed": false
   },
   "outputs": [
    {
     "data": {
      "text/plain": [
       "array([4, 3, 1, 5, 1, 4, 4, 1, 1, 1, 2, 5, 5, 2, 2, 6, 3, 4, 1, 6, 4, 5, 5,\n",
       "       5, 1, 5, 3, 4, 5, 1, 1, 5, 4, 5, 2, 6, 1, 3, 1, 1, 1, 6, 4, 5, 2, 6,\n",
       "       1, 4, 2, 6, 5, 1, 4, 1, 1, 4, 5, 3, 3, 3, 2, 1, 5, 4, 4, 2, 5, 1, 2,\n",
       "       4, 4, 3, 6, 6, 4, 2, 6, 3, 4, 6, 5, 4, 3, 5, 2, 4, 6, 1, 6, 5, 5, 1,\n",
       "       2, 3, 4, 4, 3, 5, 1, 1])"
      ]
     },
     "execution_count": 8,
     "metadata": {},
     "output_type": "execute_result"
    }
   ],
   "source": [
    "np.random.randint(1,7, size=100)\n",
    "    "
   ]
  },
  {
   "cell_type": "code",
   "execution_count": 9,
   "metadata": {
    "collapsed": false
   },
   "outputs": [
    {
     "data": {
      "text/plain": [
       "<matplotlib.text.Text at 0x1056fc4a8>"
      ]
     },
     "execution_count": 9,
     "metadata": {},
     "output_type": "execute_result"
    },
    {
     "data": {
      "image/png": "[encoded data removed]",
      "text/plain": [
       "<matplotlib.figure.Figure at 0x1056da2e8>"
      ]
     },
     "metadata": {},
     "output_type": "display_data"
    }
   ],
   "source": [
    "m = 10000\n",
    "sizes = np.arange(1,m + 1)\n",
    "means = np.zeros((m,))\n",
    "\n",
    "for i in range(len(sizes)):\n",
    "    y = np.random.randint(1,7, size=sizes[i])\n",
    "    means[i] = y.mean()\n",
    "    \n",
    "plt.plot(means, 'g', lw = 2.5)\n",
    "plt.grid(True)\n",
    "plt.title(\"Simulating the Toss of a Fair Die to Demonstrate the Law of Large Numbers\")\n",
    "plt.xlabel(\"Sample Size\")\n",
    "plt.ylabel(\"Estimated Mean\")"
   ]
  },
  {
   "cell_type": "markdown",
   "metadata": {},
   "source": [
    "We can do a similar simulation for the flipping of a fair coin. We can simulate the flip of a coin with the Binomial distribution as follows:"
   ]
  },
  {
   "cell_type": "code",
   "execution_count": 10,
   "metadata": {
    "collapsed": false
   },
   "outputs": [
    {
     "data": {
      "text/plain": [
       "array([0, 0, 0, 0, 0, 0, 0, 1, 1, 0, 1, 0, 1, 0, 1, 1, 1, 1, 0, 0, 1, 1, 0,\n",
       "       1, 1, 1, 1, 1, 1, 0, 1, 1, 1, 1, 0, 0, 1, 0, 0, 0, 1, 1, 0, 0, 0, 0,\n",
       "       0, 0, 1, 1, 0, 0, 0, 0, 1, 1, 1, 1, 1, 0, 0, 1, 0, 1, 1, 1, 1, 0, 1,\n",
       "       0, 0, 0, 1, 0, 1, 1, 0, 1, 1, 0, 0, 1, 1, 1, 1, 0, 0, 0, 0, 0, 0, 1,\n",
       "       0, 1, 1, 0, 1, 1, 0, 0])"
      ]
     },
     "execution_count": 10,
     "metadata": {},
     "output_type": "execute_result"
    }
   ],
   "source": [
    "np.random.binomial(1, 0.5, 100)"
   ]
  },
  {
   "cell_type": "code",
   "execution_count": 11,
   "metadata": {
    "collapsed": false
   },
   "outputs": [
    {
     "data": {
      "text/plain": [
       "<matplotlib.text.Text at 0x10586a2b0>"
      ]
     },
     "execution_count": 11,
     "metadata": {},
     "output_type": "execute_result"
    },
    {
     "data": {
      "image/png": "[encoded data removed]",
      "text/plain": [
       "<matplotlib.figure.Figure at 0x10575d278>"
      ]
     },
     "metadata": {},
     "output_type": "display_data"
    }
   ],
   "source": [
    "m = 1000\n",
    "sizes = np.arange(1,m + 1)\n",
    "means = np.zeros((m,))\n",
    "\n",
    "for i in range(len(sizes)):\n",
    "    y = np.random.binomial(1, 0.5, sizes[i])\n",
    "    means[i] = y.mean()\n",
    "    \n",
    "plt.plot(means, 'g', lw = 2.5)\n",
    "plt.grid(True)\n",
    "plt.title(\"Simulating Flipping a Fair Coin\")\n",
    "plt.xlabel(\"Sample Size\")\n",
    "plt.ylabel(\"Estimated Mean\")"
   ]
  },
  {
   "cell_type": "markdown",
   "metadata": {},
   "source": [
    "## The Central Limit Theorem\n",
    "\n",
    "\n",
    "The theorem that states that, if samples of size $n$ are taken from a parent population with mean $\\mu$ and standard deviation $\\sigma$, then the distribution of their means will be approximately normal with:\n",
    "\n",
    "$$\\mbox{Mean} = \\mu$$\n",
    "\n",
    "and\n",
    "\n",
    "$$\\mbox{Standard deviation} = \\frac{\\sigma}{\\sqrt{n}}$$\n",
    "\n",
    "As the sample size $n$ increases, this distribution approaches the normal distribution with increasing accuracy. Thus in the limit, as $n \\rightarrow \\infty$, the distribution of the sample means $\\rightarrow$ Normal, mean $\\mu$, standard deviation $\\sigma / \\sqrt{n}$.\n",
    "\n",
    "If the parent population is itself normal, the distribution of the sample means will be normal, whatever the sample size. If the parent population is of finite size $N$, two possibilties arise:\n",
    "\n",
    "1. If the sampling is carried out with replacement, the theorem stands as stated;\n",
    "2. If there is no replacement, the standard deviation of the sample mean is:\n",
    "\n",
    "$$\\frac{\\sigma}{\\sqrt{n}} \\sqrt{\\frac{N - n}{N - 1}}$$\n",
    "\n",
    "The factor $\\sqrt{\\frac{N - n}{N - 1}}$ is called the **finite population correction.**\n",
    "\n",
    "The central limite theorem provides the basis for much of sampling theory; it can be summed up, as follows. If $n$ is not small, the sampling distribution of the means is approximately normal, has $\\mbox{mean} = \\mu$ (the parent mean), and has standard deviation $\\sigma / \\sqrt{n}$ (where $\\sigma$ is the parent standard deviation).\n",
    "\n",
    "We can use simulation to build intuition for the central limit theorem as well. Consider the mean of a sample from an exponential distribution. Recall that the density of the exponential distribution is the following:\n",
    "\n",
    "$$f(x) = \\frac{1}{\\theta}e^{-x/\\theta}$$\n",
    "\n",
    "for $\\theta > 0$ and $x > 0$.\n",
    "\n",
    "In `Python` we can simulate from the exponential distribution as follows:"
   ]
  },
  {
   "cell_type": "code",
   "execution_count": 12,
   "metadata": {
    "collapsed": false
   },
   "outputs": [
    {
     "data": {
      "text/plain": [
       "array([ 1.20479243,  0.33330654,  1.12844228,  0.06374922,  0.08656812,\n",
       "        0.83401899,  0.69989311,  0.07514283,  0.43773711,  0.13772029,\n",
       "        0.72959722,  0.10393764,  0.25310605,  0.3866574 ,  4.4226314 ,\n",
       "        0.02744089,  1.37086113,  0.97446947,  0.68439432,  0.35640564,\n",
       "        0.3376429 ,  2.25875453,  0.60722458,  0.24763096,  0.04296986,\n",
       "        0.11591701,  0.35327656,  0.4621813 ,  0.25539043,  0.77015156,\n",
       "        0.68370988,  0.9174174 ,  0.7663413 ,  0.05531146,  0.54452946,\n",
       "        0.09229268,  0.69863041,  0.19786078,  0.3255926 ,  0.25398627,\n",
       "        0.95385082,  0.44526125,  0.03922975,  1.1380256 ,  1.77194123,\n",
       "        0.3413924 ,  0.1412141 ,  0.89755989,  4.16485374,  1.21628416,\n",
       "        0.53344182,  1.61320854,  0.54065575,  1.13971979,  2.07741174,\n",
       "        0.2987933 ,  0.05959216,  0.31882196,  0.84521032,  1.39576474,\n",
       "        2.06166034,  3.10332392,  0.17922969,  1.21572849,  0.70203825,\n",
       "        0.72991109,  2.71972039,  0.30857555,  0.60719913,  0.59040867,\n",
       "        0.33345222,  0.73273072,  1.91180534,  0.58650851,  0.56485764,\n",
       "        0.85620939,  0.0119125 ,  2.88978587,  0.12006733,  2.08290672,\n",
       "        2.27465841,  1.58398594,  1.28136919,  0.06552339,  2.61765843,\n",
       "        0.34062111,  2.50918515,  1.6308798 ,  1.48640853,  0.12275574,\n",
       "        0.92802676,  1.62438689,  0.94541771,  0.17071123,  0.22642094,\n",
       "        0.15505869,  0.40918041,  2.31019784,  0.54978311,  1.38526764])"
      ]
     },
     "execution_count": 12,
     "metadata": {},
     "output_type": "execute_result"
    }
   ],
   "source": [
    "np.random.exponential(size=100)"
   ]
  },
  {
   "cell_type": "code",
   "execution_count": 13,
   "metadata": {
    "collapsed": false
   },
   "outputs": [],
   "source": [
    "%matplotlib inline"
   ]
  },
  {
   "cell_type": "code",
   "execution_count": 16,
   "metadata": {
    "collapsed": false
   },
   "outputs": [
    {
     "data": {
      "image/png": "[encoded data removed]",
      "text/plain": [
       "<matplotlib.figure.Figure at 0x106dd8908>"
      ]
     },
     "metadata": {},
     "output_type": "display_data"
    }
   ],
   "source": [
    "import numpy as np\n",
    "import matplotlib.pyplot as plt\n",
    "from scipy.stats import gaussian_kde\n",
    "\n",
    "m = 10000\n",
    "n = 1000 # start at 10 and move up to 10000\n",
    "\n",
    "means = np.zeros((m,))\n",
    "\n",
    "for i in range(m):\n",
    "    x = np.random.exponential(size=n)\n",
    "    means[i] = x.mean()\n",
    "    \n",
    "density = gaussian_kde(means)\n",
    "xs = np.linspace(0.5,1.5,200)\n",
    "density.covariance_factor = lambda : .25\n",
    "density._compute_covariance()\n",
    "plt.plot(xs,density(xs), lw = 2)\n",
    "plt.title(\"Kernel Densit Plot\")\n",
    "plt.grid(True)\n",
    "plt.show()"
   ]
  },
  {
   "cell_type": "markdown",
   "metadata": {},
   "source": [
    "## The Monte Carlo Method\n",
    "\n",
    "Now with that statistical limit theory as a background we can turn our attention to introducting the Monte Carlo Method.\n",
    "\n",
    "Many quantities of interest in inferential statistical analyses can be expressed as the expectation of a function of a random variable, say $E\\{h(Y)\\}$. Let $f$ denote the density of $Y$, and $\\mu$ denote the expectation of $h(Y)$ with respect to $f$. When an i.i.d random sample $Y_{1}, \\ldots, Y_{n}$ is obtained from $f$, we can approximate $\\mu$ by a sample average:\n",
    "\n",
    "$$\\hat{\\mu}_{MC} = \\frac{1}{n} \\sum\\limits_{i=1}^{n} h(Y_{i}) \\rightarrow \\int\\limits h(Y)f(Y)dy = \\mu$$\n",
    "\n",
    "as $n \\rightarrow \\infty$, by the strong law of large numbers. Further, let $v(y) = [h(Y) - \\mu]^{2}$, and assume that $H(Y)^{2}$ has finite expectation under $f$. Then the sampling variance of $\\hat{\\mu}_{MC}$ is $\\sigma^{2}/n = E\\{v(Y)/n\\}$, where the expectation is taken with respect to $f$. A similar Monte Carlo approach can be used to estimate $\\sigma^{2}$ by\n",
    "\n",
    "$$\\hat{var}\\{\\hat{\\mu}_{MC}\\} = \\frac{1}{n - 1} \\sum\\limits_{i=1}^{n} [h(Y_{i}) - \\hat{\\mu}_{MC}]^{2}$$\n",
    "\n",
    "When $\\sigma^{2}$ exists, the central limit theorem implies that $\\hat{\\mu}_{MC}$ has an approximate normal distribution for large $n$, so approximate confidence bounds and statistical inference for $\\mu$ follow.\n",
    "\n",
    "Monte Carlo integration offers slower convergence than other numerical methods for integration, so why should we use it? It turns out that Monte Carlo integration is less subject to the curse of dimensionality as other methods, so the Monte Carlo method is especially helpful for multidimensional problems. Also, some methods like quadrature require smoothness, while Monte Carlo ignores smoothness alrogether. \n",
    "\n",
    "### Approximating a Deterministic Definite Integral with the Monte Carlo Method\n",
    "\n",
    "Let's consider the simple function:\n",
    "\n",
    "$$f(x) = 4 - 4x^{2}$$\n",
    "\n",
    "and the following definite integral:\n",
    "\n",
    "$$\\int\\limits_{0}^{1} (4 - 4x^{2})dx$$\n",
    "\n",
    "This is a simple function to integrate and we can use analytical methods from calculus to solve it as follows:\n",
    "\n",
    "$$\\int\\limits_{0}^{1} (4 - 4x^{2})dx = (4x - \\frac{4}{3}x^{3})\\bigm|_{0}^{1} = (4(1) - \\frac{4}{3}(1)^{3}) - (4(0) - \\frac{4}{3}(0)^{3}) = \\frac{8}{3} \\approx 2.6667$$\n",
    "\n",
    "A useful tool if your calculus skills are rusty is ***[Wolfram Alpha](http://www.wolframalpha.com/input/?i=Integrate+4+-+4x%5E2+from+0+to+1)***.\n",
    "\n",
    "To use the Monte Carlo method to solve this integral numerically, we turn it into an expectation over a random variable:\n",
    "\n",
    "$$\\hat{\\mu}_{MC} = \\frac{1}{n} \\sum\\limits_{i=1}^{n} (4 - 4X_{i}^{2})$$\n",
    "\n",
    "where the $X_{i}$ are random draws from a uniform distribution on the interval $[0,1]$ for $i = 1, \\ldots, n$.\n",
    "\n",
    "Let's see how we can accomplish this in `Python`:"
   ]
  },
  {
   "cell_type": "code",
   "execution_count": 17,
   "metadata": {
    "collapsed": false
   },
   "outputs": [
    {
     "name": "stdout",
     "output_type": "stream",
     "text": [
      "The Monte Carlo estimate of the integral is: 2.6664\n"
     ]
    }
   ],
   "source": [
    "import numpy as np\n",
    "\n",
    "def f(x):\n",
    "    y = 4 - 4 * x ** 2\n",
    "    return y \n",
    "\n",
    "def main():\n",
    "    # Generate random values between 0 and 1\n",
    "    u = np.random.uniform(0, 1, size = 10**6)\n",
    "\n",
    "    # Evaluate the function for each value u\n",
    "    y = f(u)\n",
    "\n",
    "    # Approximate the integral with the mean\n",
    "    muhat = y.mean()\n",
    "    \n",
    "    # Print the answer\n",
    "    print(\"The Monte Carlo estimate of the integral is: %s\" % round(muhat, 4))\n",
    "    \n",
    "if __name__ == \"__main__\":\n",
    "    main()"
   ]
  },
  {
   "cell_type": "markdown",
   "metadata": {},
   "source": [
    "## Using the Monte Carlo Method for Option Pricing\n",
    "\n",
    "We saw that we could we could write the single-period Binomial option pricing model as:\n",
    "\n",
    "$$C_{0} = e^{-rT} [C_{u} p^{\\ast} - C_{d}(1 - p^{\\ast})]$$\n",
    "\n",
    "which we said was the risk-neutral interpretation of the model. We also saw that we could think of the model as containing two terms:\n",
    "\n",
    "1. An expected cash flow from holding the option at expiration: $[C_{u} p^{\\ast} - C_{d}(1 - p^{\\ast})]$.\n",
    "2. A discount factor to bring the expect cash flow to present value: $e^{-rT}$.\n",
    "\n",
    "We can write this generically as:\n",
    "\n",
    "$$C_{0} = e^{-rT} E\\{CF_{T}\\}$$\n",
    "\n",
    "where $CF_{T}$ is the cash flow from holding the option at expiration. As we will see this holds even for more complex price dynamics beyond the Binomial tree. We will see that if we can simulate from a given stock price process (whatever it be), that we can price the option by simulating many stock price paths, applying the option payoff function, taking a sample average and discounting to present value:\n",
    "\n",
    "$$C_{0} = \\frac{1}{n} \\sum\\limits_{i=1}^{n} C_{0,i}$$\n",
    "\n",
    "where $C_{0,i} = e^{-rT} C_{T,i}$ and $C_{T,i} = \\max{(S_{T,i} - K, 0)}$, and $S_{T,i}$ is the $i^{th}$ terminal simulated stock price for $i = 1, \\ldots, n$ for a call option. A put option would be similar, but would apply the put payoff function instead.\n",
    "\n",
    "As we will see this is a very simple way to price options and will apply even for very complex stock price dynamics such as jumps in price and stochastic volatility, which seem to be required by the data."
   ]
  },
  {
   "cell_type": "code",
   "execution_count": null,
   "metadata": {
    "collapsed": false
   },
   "outputs": [],
   "source": []
  }
 ],
 "metadata": {
  "kernelspec": {
   "display_name": "Python 3",
   "language": "python",
   "name": "python3"
  },
  "language_info": {
   "codemirror_mode": {
    "name": "ipython",
    "version": 3
   },
   "file_extension": ".py",
   "mimetype": "text/x-python",
   "name": "python",
   "nbconvert_exporter": "python",
   "pygments_lexer": "ipython3",
   "version": "3.4.4"
  }
 },
 "nbformat": 4,
 "nbformat_minor": 0
}
